{
 "cells": [
  {
   "cell_type": "code",
   "execution_count": 1,
   "metadata": {},
   "outputs": [],
   "source": [
    "import numpy as np"
   ]
  },
  {
   "cell_type": "code",
   "execution_count": 20,
   "metadata": {},
   "outputs": [],
   "source": [
    "def normalizeq( q):\n",
    "\n",
    "    qLength = np.sqrt(np.sum(np.square(q)))\n",
    "    q = q/qLength\n",
    "    return q\n",
    "def quaternionMul(q1, q2):\n",
    "    mat1 = np.array([[0,1,0,0],[-1,0,0,0],[0,0,0,1],[0,0,-1,0]])\n",
    "    mat2 = np.array([[0,0,1,0],[0,0,0,-1],[-1,0,0,0],[0,1,0,0]])\n",
    "    mat3 = np.array([[0,0,0,1],[0,0,1,0],[0,-1,0,0],[-1,0,0,0]])\n",
    "\n",
    "    k1 = np.matmul(q1,mat1)[np.newaxis,:].T\n",
    "    k2 = np.matmul(q1,mat2)[np.newaxis,:].T\n",
    "    k3 = np.matmul(q1,mat3)[np.newaxis,:].T\n",
    "    k0 = q1[np.newaxis,:].T\n",
    "\n",
    "    mat = np.concatenate((k0,k1,k2,k3), axis = 1)\n",
    "\n",
    "    finalq = np.matmul(mat,q2)\n",
    "\n",
    "    return finalq"
   ]
  },
  {
   "cell_type": "code",
   "execution_count": 21,
   "metadata": {},
   "outputs": [],
   "source": [
    "q = np.array([0.5,1.5,2.5,3.5])\n",
    "a = np.array([0.0,0.9,0.4,10])\n",
    "m = np.array([0.0,4.5,3.6,2.7])\n",
    "\n",
    "q= normalizeq(q)\n",
    "a = normalizeq(a)\n",
    "m = normalizeq(m)\n"
   ]
  },
  {
   "cell_type": "code",
   "execution_count": null,
   "metadata": {},
   "outputs": [],
   "source": []
  },
  {
   "cell_type": "code",
   "execution_count": 22,
   "metadata": {},
   "outputs": [],
   "source": [
    "jacob = np.array([[-2.0*q[2], 2.0*q[3], -2.0*q[0], 2.0*q[1]],\\\n",
    "\t\t\t\t\t\t[2.0*q[1], 2.0*q[0], 2.0*q[3], 2.0*q[2]],\\\n",
    "\t\t\t\t\t\t[0.0, -4.0*q[1], -4.0*q[2], 0.0]])\n",
    "\n",
    "func = np.array([[2.0*(q[1]*q[3] - q[0]*q[2]) - a[1]],\\\n",
    "\t\t\t\t\t\t[2.0*(q[0]*q[1] - q[2]*q[3]) - a[2]],\\\n",
    "\t\t\t\t\t\t[2.0*(0.5 - q[1]*q[1] - q[2]*q[2]) - a[3]]])"
   ]
  },
  {
   "cell_type": "code",
   "execution_count": 9,
   "metadata": {},
   "outputs": [],
   "source": [
    "ax = a[1]\n",
    "ay = a[2]\n",
    "az = a[3]\n",
    "\n",
    "q1 = q[0]\n",
    "q2 = q[1]\n",
    "q3 = q[2]\n",
    "q4 = q[3]\n",
    "\n",
    "mx = m[1]\n",
    "my = m[2]\n",
    "mz = m[3]\n",
    "\n",
    "_2q1 = 2.0 * q1;\n",
    "_2q2 = 2.0 * q2;\n",
    "_2q3 = 2.0 * q3;\n",
    "_2q4 = 2.0 * q4;\n",
    "_2q1q3 = 2.0 * q1 * q3;\n",
    "_2q3q4 = 2.0 * q3 * q4;\n",
    "q1q1 = q1 * q1;\n",
    "q1q2 = q1 * q2;\n",
    "q1q3 = q1 * q3;\n",
    "q1q4 = q1 * q4;\n",
    "q2q2 = q2 * q2;\n",
    "q2q3 = q2 * q3;\n",
    "q2q4 = q2 * q4;\n",
    "q3q3 = q3 * q3;\n",
    "q3q4 = q3 * q4;\n",
    "q4q4 = q4 * q4;"
   ]
  },
  {
   "cell_type": "code",
   "execution_count": 11,
   "metadata": {},
   "outputs": [],
   "source": [
    "s1 = -_2q3 * (2.0 * q2q4 - _2q1q3 - ax) + _2q2 * (2.0 * q1q2 + _2q3q4 - ay) #- _2bz * q3 * (_2bx * (0.5 - q3q3 - q4q4) + _2bz * (q2q4 - q1q3) - mx) + (-_2bx * q4 + _2bz * q2) * (_2bx * (q2q3 - q1q4) + _2bz * (q1q2 + q3q4) - my) + _2bx * q3 * (_2bx * (q1q3 + q2q4) + _2bz * (0.5 - q2q2 - q3q3) - mz);\n",
    "s2 = _2q4 * (2.0 * q2q4 - _2q1q3 - ax) + _2q1 * (2.0 * q1q2 + _2q3q4 - ay) - 4.0 * q2 * (1.0 - 2.0 * q2q2 - 2.0 * q3q3 - az) #+ _2bz * q4 * (_2bx * (0.5 - q3q3 - q4q4) + _2bz * (q2q4 - q1q3) - mx) + (_2bx * q3 + _2bz * q1) * (_2bx * (q2q3 - q1q4) + _2bz * (q1q2 + q3q4) - my) + (_2bx * q4 - _4bz * q2) * (_2bx * (q1q3 + q2q4) + _2bz * (0.5 - q2q2 - q3q3) - mz);\n",
    "s3 = -_2q1 * (2.0 * q2q4 - _2q1q3 - ax) + _2q4 * (2.0 * q1q2 + _2q3q4 - ay) - 4.0 * q3 * (1.0 - 2.0 * q2q2 - 2.0 * q3q3 - az) #+ (-_4bx * q3 - _2bz * q1) * (_2bx * (0.5 - q3q3 - q4q4) + _2bz * (q2q4 - q1q3) - mx) + (_2bx * q2 + _2bz * q4) * (_2bx * (q2q3 - q1q4) + _2bz * (q1q2 + q3q4) - my) + (_2bx * q1 - _4bz * q3) * (_2bx * (q1q3 + q2q4) + _2bz * (0.5 - q2q2 - q3q3) - mz);\n",
    "s4 = _2q2 * (2.0 * q2q4 - _2q1q3 - ax) + _2q3 * (2.0 * q1q2 + _2q3q4 - ay)\n",
    "s = np.array([s1,s2,s3,s4])"
   ]
  },
  {
   "cell_type": "code",
   "execution_count": 14,
   "metadata": {},
   "outputs": [
    {
     "name": "stdout",
     "output_type": "stream",
     "text": [
      "DelatF difference-> deltaF:[0.24831774 1.68745876 3.01367284 1.13449947] and deltaF1:[-0.84277171  1.32376227  0.46779745 -0.68398294] \n"
     ]
    }
   ],
   "source": [
    "deltaF1 = np.squeeze(np.matmul((jacob.T), func))\n",
    "print (\"DelatF difference-> deltaF:{0} and deltaF1:{1} \".format(s, deltaF1))"
   ]
  },
  {
   "cell_type": "code",
   "execution_count": 15,
   "metadata": {},
   "outputs": [
    {
     "data": {
      "text/plain": [
       "array([[-1.09108945,  0.65465367,  0.        ],\n",
       "       [ 1.52752523,  0.21821789, -1.30930734],\n",
       "       [-0.21821789,  1.52752523, -2.1821789 ],\n",
       "       [ 0.65465367,  1.09108945,  0.        ]])"
      ]
     },
     "execution_count": 15,
     "metadata": {},
     "output_type": "execute_result"
    }
   ],
   "source": [
    "jacob.T"
   ]
  },
  {
   "cell_type": "code",
   "execution_count": 16,
   "metadata": {},
   "outputs": [
    {
     "data": {
      "text/plain": [
       "array([[ 0.29138573],\n",
       "       [-0.80171216],\n",
       "       [-0.80470881]])"
      ]
     },
     "execution_count": 16,
     "metadata": {},
     "output_type": "execute_result"
    }
   ],
   "source": [
    "func"
   ]
  },
  {
   "cell_type": "code",
   "execution_count": 17,
   "metadata": {},
   "outputs": [
    {
     "data": {
      "text/plain": [
       "0.2913857308678294"
      ]
     },
     "execution_count": 17,
     "metadata": {},
     "output_type": "execute_result"
    }
   ],
   "source": [
    "(2.0 * q2q4 - _2q1q3 - ax)"
   ]
  },
  {
   "cell_type": "code",
   "execution_count": 18,
   "metadata": {},
   "outputs": [
    {
     "data": {
      "text/plain": [
       "0.8649545047243263"
      ]
     },
     "execution_count": 18,
     "metadata": {},
     "output_type": "execute_result"
    }
   ],
   "source": [
    "(2.0 * q1q2 + _2q3q4 - ay)"
   ]
  },
  {
   "cell_type": "code",
   "execution_count": 19,
   "metadata": {},
   "outputs": [
    {
     "data": {
      "text/plain": [
       "-0.8047088104632729"
      ]
     },
     "execution_count": 19,
     "metadata": {},
     "output_type": "execute_result"
    }
   ],
   "source": [
    "(1.0 - 2.0 * q2q2 - 2.0 * q3q3 - az)"
   ]
  },
  {
   "cell_type": "code",
   "execution_count": null,
   "metadata": {},
   "outputs": [],
   "source": []
  }
 ],
 "metadata": {
  "kernelspec": {
   "display_name": "Python 3",
   "language": "python",
   "name": "python3"
  },
  "language_info": {
   "codemirror_mode": {
    "name": "ipython",
    "version": 3
   },
   "file_extension": ".py",
   "mimetype": "text/x-python",
   "name": "python",
   "nbconvert_exporter": "python",
   "pygments_lexer": "ipython3",
   "version": "3.5.2"
  }
 },
 "nbformat": 4,
 "nbformat_minor": 2
}
