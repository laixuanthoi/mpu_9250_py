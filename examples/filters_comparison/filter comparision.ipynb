{
 "cells": [
  {
   "cell_type": "code",
   "execution_count": 4,
   "metadata": {},
   "outputs": [],
   "source": [
    "%matplotlib inline\n",
    "import matplotlib\n",
    "# matplotlib.use('TkAgg')\n",
    "# from mpl_toolkits.mplot3d import Axes3D\n",
    "import matplotlib.pyplot as plt\n",
    "import numpy as np\n",
    "import zmq\n",
    "import os\n",
    "import time\n",
    "import sys\n",
    "import json"
   ]
  },
  {
   "cell_type": "code",
   "execution_count": 8,
   "metadata": {},
   "outputs": [],
   "source": [
    "#initializing subscriber\n",
    "host = '192.168.0.103'\n",
    "port = 8358\n",
    "url = 'tcp://'+host+':'+str(port)\n",
    "context = zmq.Context()\n",
    "socket = context.socket(zmq.SUB)\n",
    "socket.connect(url)\n",
    "socket.setsockopt(zmq.SUBSCRIBE, b'')\n",
    "\n",
    "#samples to be collected \n",
    "numSamples = 3000"
   ]
  },
  {
   "cell_type": "code",
   "execution_count": 9,
   "metadata": {},
   "outputs": [],
   "source": [
    "def getSamples(numSamples, socket):\n",
    "    count = 0\n",
    "    filtervals = np.zeros((numSamples,9))\n",
    "    while count != numSamples:\n",
    "        packet = socket.recv_json(0)\n",
    "        ori = packet['normal']\n",
    "        filtervals[count,:3] = np.array(json.loads(ori))\n",
    "        \n",
    "        kal = packet['kalman']\n",
    "        filtervals[count,3:6] = np.array(json.loads(kal))\n",
    "        \n",
    "        madgwick = packet['madgwick']\n",
    "        filtervals[count,6:] = np.array(json.loads(madgwick))\n",
    "        \n",
    "        count = count + 1\n",
    "        if (count%100 == 0 and count != 0 ):\n",
    "            print (\"Recieved {0} samples of filter data\".format(count))\n",
    "    return filtervals"
   ]
  },
  {
   "cell_type": "code",
   "execution_count": 10,
   "metadata": {},
   "outputs": [
    {
     "name": "stdout",
     "output_type": "stream",
     "text": [
      "Recieved 100 samples of mag data\n",
      "Recieved 200 samples of mag data\n",
      "Recieved 300 samples of mag data\n",
      "Recieved 400 samples of mag data\n",
      "Recieved 500 samples of mag data\n",
      "Recieved 600 samples of mag data\n",
      "Recieved 700 samples of mag data\n",
      "Recieved 800 samples of mag data\n",
      "Recieved 900 samples of mag data\n",
      "Recieved 1000 samples of mag data\n",
      "Recieved 1100 samples of mag data\n",
      "Recieved 1200 samples of mag data\n",
      "Recieved 1300 samples of mag data\n",
      "Recieved 1400 samples of mag data\n",
      "Recieved 1500 samples of mag data\n",
      "Recieved 1600 samples of mag data\n",
      "Recieved 1700 samples of mag data\n",
      "Recieved 1800 samples of mag data\n",
      "Recieved 1900 samples of mag data\n",
      "Recieved 2000 samples of mag data\n",
      "Recieved 2100 samples of mag data\n",
      "Recieved 2200 samples of mag data\n",
      "Recieved 2300 samples of mag data\n",
      "Recieved 2400 samples of mag data\n",
      "Recieved 2500 samples of mag data\n",
      "Recieved 2600 samples of mag data\n",
      "Recieved 2700 samples of mag data\n",
      "Recieved 2800 samples of mag data\n",
      "Recieved 2900 samples of mag data\n",
      "Recieved 3000 samples of mag data\n"
     ]
    }
   ],
   "source": [
    "vals = getSamples(numSamples, socket)"
   ]
  },
  {
   "cell_type": "code",
   "execution_count": 43,
   "metadata": {},
   "outputs": [
    {
     "data": {
      "text/plain": [
       "[<matplotlib.lines.Line2D at 0x7ff53089a208>]"
      ]
     },
     "execution_count": 43,
     "metadata": {},
     "output_type": "execute_result"
    },
    {
     "data": {
      "image/png": "[encoded data removed]",
      "text/plain": [
       "<Figure size 432x288 with 1 Axes>"
      ]
     },
     "metadata": {},
     "output_type": "display_data"
    }
   ],
   "source": [
    "start = 1250\n",
    "end = 1350\n",
    "plt.plot(vals[start:end,0], color= 'red', label = 'normal')\n",
    "plt.plot(vals[start:end,1], color= 'green', label = 'normal')\n",
    "plt.plot(vals[start:end,2], color= 'blue', label = 'normal')\n",
    "plt.plot(vals[start:end,3], color= 'red', linestyle='--', label = 'kalman')\n",
    "plt.plot(vals[start:end,4], color= 'green', linestyle='--', label = 'kalman')\n",
    "plt.plot(vals[start:end,5], color= 'blue', linestyle='--', label = 'kalman')\n",
    "plt.plot(vals[start:end,6], color= 'red', linestyle=':', label = 'madgwick')\n",
    "plt.plot(vals[start:end,7], color= 'green', linestyle=':', label = 'madgwick')\n",
    "plt.plot(vals[start:end,8], color= 'blue', linestyle=':', label = 'madgwick')\n",
    "# plt.legend(loc='best')"
   ]
  }
 ],
 "metadata": {
  "kernelspec": {
   "display_name": "Python 3",
   "language": "python",
   "name": "python3"
  },
  "language_info": {
   "codemirror_mode": {
    "name": "ipython",
    "version": 3
   },
   "file_extension": ".py",
   "mimetype": "text/x-python",
   "name": "python",
   "nbconvert_exporter": "python",
   "pygments_lexer": "ipython3",
   "version": "3.5.2"
  }
 },
 "nbformat": 4,
 "nbformat_minor": 2
}
